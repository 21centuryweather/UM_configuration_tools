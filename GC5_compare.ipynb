{
 "cells": [
  {
   "cell_type": "code",
   "execution_count": 1,
   "id": "c5767409-8835-4887-8ea1-d3dfc43e6416",
   "metadata": {},
   "outputs": [],
   "source": [
    "import xarray as xr\n",
    "from pathlib import Path"
   ]
  },
  {
   "cell_type": "code",
   "execution_count": 2,
   "id": "76a36aae-0ad8-4540-a845-281ee95b3b75",
   "metadata": {},
   "outputs": [],
   "source": [
    "BASE_DIR=Path('/scratch/gb02/pag548/GC5_runs/u-cx707/atmos/')\n",
    "NEW_DIR=Path('/scratch/gb02/pag548/GC5_runs/u-dl058/atmos/')\n",
    "base=xr.open_dataset( BASE_DIR / '20200116T0000Z_en000_umgla.daily.nc')"
   ]
  },
  {
   "cell_type": "code",
   "execution_count": 3,
   "id": "559895bc-7ea7-4012-9a92-0992ad6f8cab",
   "metadata": {},
   "outputs": [
    {
     "name": "stdout",
     "output_type": "stream",
     "text": [
      "base.tas.max() = 317.625\n",
      "base.tas.min() = 213.359375\n",
      "base.tas.mean() = 277.558837890625\n"
     ]
    }
   ],
   "source": [
    "print (f'base.tas.max() = {base.tas.max().values}')\n",
    "print (f'base.tas.min() = {base.tas.min().values}')\n",
    "print (f'base.tas.mean() = {base.tas.mean().values}')"
   ]
  },
  {
   "cell_type": "code",
   "execution_count": 4,
   "id": "b0db97ca-0d52-46f9-8208-5c11db191c62",
   "metadata": {},
   "outputs": [],
   "source": [
    "new=xr.open_dataset( NEW_DIR / '20200116T0000Z_en000_umgla.daily.nc')"
   ]
  },
  {
   "cell_type": "code",
   "execution_count": 5,
   "id": "78e8f3be-452b-4211-9327-4437c7c24dcf",
   "metadata": {},
   "outputs": [
    {
     "name": "stdout",
     "output_type": "stream",
     "text": [
      "new.tas.max() = 317.625\n",
      "new.tas.min() = 213.359375\n",
      "new.tas.mean() = 277.558837890625\n"
     ]
    }
   ],
   "source": [
    "print (f'new.tas.max() = {base.tas.max().values}')\n",
    "print (f'new.tas.min() = {base.tas.min().values}')\n",
    "print (f'new.tas.mean() = {base.tas.mean().values}')"
   ]
  },
  {
   "cell_type": "code",
   "execution_count": 6,
   "id": "a380014d-5391-4ef8-959a-5cfd25467a07",
   "metadata": {},
   "outputs": [
    {
     "data": {
      "text/plain": [
       "{'model_id': 'GC5_NWP_Case_Study_Suite',\n",
       " 'distribution_statement': \"The data are subject to the distribution terms of use outlined in the Bureau of Meteorology's Copyright Notice http://www.bom.gov.au/other/copyright.shtml\",\n",
       " 'creator_name': 'Bureau of Meteorology',\n",
       " 'copyright': '(C) Copyright Commonwealth of Australia (2021), Bureau of Meteorology (ABN 92637 533532), see http://www.bom.gov.au/other/copyright.shtml for terms and conditions of reuse',\n",
       " 'acknowledgement': 'Australian Bureau of Meteorology, Commonwealth of Australia',\n",
       " 'title': 'GC5_NWP_Case_Study_Suite',\n",
       " 'id': 'gc5_nwp_sase_study_suite',\n",
       " 'author': 'Bureau of Meteorology',\n",
       " 'Conventions': 'CF-1.6',\n",
       " 'source': 'GC5_NWP_Case_Study_Suite',\n",
       " 'publisher_url': 'http://bom.gov.au',\n",
       " 'keywords': 'GC5',\n",
       " 'creator_url': 'http://bom.gov.au',\n",
       " 'institute_id': 'ABOM',\n",
       " 'publisher_name': 'Bureau of Meteorology',\n",
       " 'institution': 'Australian Bureau of Meteorology',\n",
       " 'naming_authority': 'au.gov.bom',\n",
       " 'disclaimer': \"The data are subject to the Bureau of Meteorology's disclaimer. http://www.bom.gov.au/other/disclaimer.shtml\",\n",
       " 'date_created': '2024-12-18:00:51:39',\n",
       " 'input_file_format': 'PP',\n",
       " 'input_uri': 'file:///home/548/pag548/cylc-run/u-dl058/share/cycle/20200116T0000Z/pp/en000_umgla.daily',\n",
       " 'input_word_length': 4,\n",
       " 'history': 'PP/UM file read by cdunif. Converted to netCDF by pag548 on 2024-12-18.',\n",
       " 'input_byte_ordering': 'big_endian'}"
      ]
     },
     "execution_count": 6,
     "metadata": {},
     "output_type": "execute_result"
    }
   ],
   "source": [
    "new.attrs"
   ]
  },
  {
   "cell_type": "code",
   "execution_count": 7,
   "id": "d1273dbb-e1e3-4175-abf5-19d77d69d699",
   "metadata": {},
   "outputs": [
    {
     "data": {
      "text/plain": [
       "{'model_id': 'GC5_NWP_Case_Study_Suite',\n",
       " 'distribution_statement': \"The data are subject to the distribution terms of use outlined in the Bureau of Meteorology's Copyright Notice http://www.bom.gov.au/other/copyright.shtml\",\n",
       " 'creator_name': 'Bureau of Meteorology',\n",
       " 'copyright': '(C) Copyright Commonwealth of Australia (2021), Bureau of Meteorology (ABN 92637 533532), see http://www.bom.gov.au/other/copyright.shtml for terms and conditions of reuse',\n",
       " 'acknowledgement': 'Australian Bureau of Meteorology, Commonwealth of Australia',\n",
       " 'title': 'GC5_NWP_Case_Study_Suite',\n",
       " 'id': 'gc5_nwp_sase_study_suite',\n",
       " 'author': 'Bureau of Meteorology',\n",
       " 'Conventions': 'CF-1.6',\n",
       " 'source': 'GC5_NWP_Case_Study_Suite',\n",
       " 'publisher_url': 'http://bom.gov.au',\n",
       " 'keywords': 'GC5',\n",
       " 'creator_url': 'http://bom.gov.au',\n",
       " 'institute_id': 'ABOM',\n",
       " 'publisher_name': 'Bureau of Meteorology',\n",
       " 'institution': 'Australian Bureau of Meteorology',\n",
       " 'naming_authority': 'au.gov.bom',\n",
       " 'disclaimer': \"The data are subject to the Bureau of Meteorology's disclaimer. http://www.bom.gov.au/other/disclaimer.shtml\",\n",
       " 'date_created': '2024-11-20:05:12:58',\n",
       " 'input_file_format': 'PP',\n",
       " 'input_uri': 'file:///home/548/pag548/cylc-run/u-cx707/share/cycle/20200116T0000Z/pp/en000_umgla.daily',\n",
       " 'input_word_length': 4,\n",
       " 'history': 'PP/UM file read by cdunif. Converted to netCDF by pag548 on 2024-11-20.',\n",
       " 'input_byte_ordering': 'big_endian'}"
      ]
     },
     "execution_count": 7,
     "metadata": {},
     "output_type": "execute_result"
    }
   ],
   "source": [
    "base.attrs"
   ]
  },
  {
   "cell_type": "code",
   "execution_count": 8,
   "id": "02703c20-f44d-4f84-84bb-b6b281c21bef",
   "metadata": {},
   "outputs": [
    {
     "data": {
      "text/plain": [
       "(4, 1536, 2048)"
      ]
     },
     "execution_count": 8,
     "metadata": {},
     "output_type": "execute_result"
    }
   ],
   "source": [
    "base.tas.shape"
   ]
  },
  {
   "cell_type": "code",
   "execution_count": null,
   "id": "36bbfde8-e3ac-4f9e-9fa0-43e3caf28037",
   "metadata": {},
   "outputs": [],
   "source": []
  }
 ],
 "metadata": {
  "kernelspec": {
   "display_name": "Python [conda env:analysis3-24.04] *",
   "language": "python",
   "name": "conda-env-analysis3-24.04-py"
  },
  "language_info": {
   "codemirror_mode": {
    "name": "ipython",
    "version": 3
   },
   "file_extension": ".py",
   "mimetype": "text/x-python",
   "name": "python",
   "nbconvert_exporter": "python",
   "pygments_lexer": "ipython3",
   "version": "3.10.14"
  }
 },
 "nbformat": 4,
 "nbformat_minor": 5
}
