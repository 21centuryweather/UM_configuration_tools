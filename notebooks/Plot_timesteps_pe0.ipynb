{
 "cells": [
  {
   "cell_type": "code",
   "execution_count": 6,
   "id": "ad300bf1-09fb-45b4-aa36-9dcc4de2a73a",
   "metadata": {},
   "outputs": [],
   "source": [
    "# A notebook to interrogate the timestep data from a pe0 log.\n",
    "import pandas as pd\n",
    "import sys\n",
    "import io\n",
    "from pathlib import Path"
   ]
  },
  {
   "cell_type": "code",
   "execution_count": 2,
   "id": "76fc7cc5-9fe4-469c-ae6a-b34b0ef14581",
   "metadata": {},
   "outputs": [],
   "source": [
    "PE_DIR=Path('/g/data/gb02/pag548/sapphire_logs/1km_68_68/work/Flagship_ERA5to1km_1km_RAL3P2_um_fcst_000/pe_output')"
   ]
  },
  {
   "cell_type": "code",
   "execution_count": 3,
   "id": "43868aa3-b0c4-4d30-aa88-ad6692da007a",
   "metadata": {},
   "outputs": [],
   "source": [
    "pe0_file = PE_DIR / 'umnsa.fort6.pe0'"
   ]
  },
  {
   "cell_type": "code",
   "execution_count": 9,
   "id": "7f56e771-75a2-4591-88c6-ae50a2765906",
   "metadata": {},
   "outputs": [],
   "source": [
    "csv_buffer = io.StringIO()\n",
    "csv_lines = []\n",
    "\n",
    "with open(pe0_file, 'r') as fp:\n",
    "    for index, line in enumerate(fp):\n",
    "        if 'Atm_Step: Info: Starting' in line:\n",
    "            csv_lines.append(line)"
   ]
  },
  {
   "cell_type": "code",
   "execution_count": 10,
   "id": "e1a87647-840d-4d2d-9565-f80f5d80d823",
   "metadata": {},
   "outputs": [],
   "source": [
    "for line in csv_lines:\n",
    "    csv_buffer.write(f'\"{line}\"\\n')"
   ]
  },
  {
   "cell_type": "code",
   "execution_count": 22,
   "id": "39e04807-b625-4ea1-a3d8-d0a18d58547b",
   "metadata": {},
   "outputs": [],
   "source": [
    "csv_buffer.seek(0)\n",
    "df = pd.read_csv(csv_buffer, header=None, sep='\\t')"
   ]
  },
  {
   "cell_type": "code",
   "execution_count": 23,
   "id": "264c331f-692c-4a1a-a6ba-3946b058f475",
   "metadata": {},
   "outputs": [
    {
     "data": {
      "text/html": [
       "<div>\n",
       "<style scoped>\n",
       "    .dataframe tbody tr th:only-of-type {\n",
       "        vertical-align: middle;\n",
       "    }\n",
       "\n",
       "    .dataframe tbody tr th {\n",
       "        vertical-align: top;\n",
       "    }\n",
       "\n",
       "    .dataframe thead th {\n",
       "        text-align: right;\n",
       "    }\n",
       "</style>\n",
       "<table border=\"1\" class=\"dataframe\">\n",
       "  <thead>\n",
       "    <tr style=\"text-align: right;\">\n",
       "      <th></th>\n",
       "      <th>0</th>\n",
       "    </tr>\n",
       "  </thead>\n",
       "  <tbody>\n",
       "    <tr>\n",
       "      <th>0</th>\n",
       "      <td>Atm_Step: Info: Starting timestep        0 at ...</td>\n",
       "    </tr>\n",
       "    <tr>\n",
       "      <th>1</th>\n",
       "      <td>Atm_Step: Info: Starting timestep        1 at ...</td>\n",
       "    </tr>\n",
       "    <tr>\n",
       "      <th>2</th>\n",
       "      <td>Atm_Step: Info: Starting timestep        2 at ...</td>\n",
       "    </tr>\n",
       "    <tr>\n",
       "      <th>3</th>\n",
       "      <td>Atm_Step: Info: Starting timestep        3 at ...</td>\n",
       "    </tr>\n",
       "    <tr>\n",
       "      <th>4</th>\n",
       "      <td>Atm_Step: Info: Starting timestep        4 at ...</td>\n",
       "    </tr>\n",
       "    <tr>\n",
       "      <th>...</th>\n",
       "      <td>...</td>\n",
       "    </tr>\n",
       "    <tr>\n",
       "      <th>356</th>\n",
       "      <td>Atm_Step: Info: Starting timestep      356 at ...</td>\n",
       "    </tr>\n",
       "    <tr>\n",
       "      <th>357</th>\n",
       "      <td>Atm_Step: Info: Starting timestep      357 at ...</td>\n",
       "    </tr>\n",
       "    <tr>\n",
       "      <th>358</th>\n",
       "      <td>Atm_Step: Info: Starting timestep      358 at ...</td>\n",
       "    </tr>\n",
       "    <tr>\n",
       "      <th>359</th>\n",
       "      <td>Atm_Step: Info: Starting timestep      359 at ...</td>\n",
       "    </tr>\n",
       "    <tr>\n",
       "      <th>360</th>\n",
       "      <td>Atm_Step: Info: Starting timestep      360 at ...</td>\n",
       "    </tr>\n",
       "  </tbody>\n",
       "</table>\n",
       "<p>361 rows × 1 columns</p>\n",
       "</div>"
      ],
      "text/plain": [
       "                                                     0\n",
       "0    Atm_Step: Info: Starting timestep        0 at ...\n",
       "1    Atm_Step: Info: Starting timestep        1 at ...\n",
       "2    Atm_Step: Info: Starting timestep        2 at ...\n",
       "3    Atm_Step: Info: Starting timestep        3 at ...\n",
       "4    Atm_Step: Info: Starting timestep        4 at ...\n",
       "..                                                 ...\n",
       "356  Atm_Step: Info: Starting timestep      356 at ...\n",
       "357  Atm_Step: Info: Starting timestep      357 at ...\n",
       "358  Atm_Step: Info: Starting timestep      358 at ...\n",
       "359  Atm_Step: Info: Starting timestep      359 at ...\n",
       "360  Atm_Step: Info: Starting timestep      360 at ...\n",
       "\n",
       "[361 rows x 1 columns]"
      ]
     },
     "execution_count": 23,
     "metadata": {},
     "output_type": "execute_result"
    }
   ],
   "source": [
    "df"
   ]
  },
  {
   "cell_type": "code",
   "execution_count": 15,
   "id": "3ef0fc82-e466-4b8c-a552-9c38902cb9e2",
   "metadata": {},
   "outputs": [
    {
     "data": {
      "text/plain": [
       "'Atm_Step: Info: Starting timestep      360 at time=   806.503 seconds\\n'"
      ]
     },
     "execution_count": 15,
     "metadata": {},
     "output_type": "execute_result"
    }
   ],
   "source": [
    "line"
   ]
  },
  {
   "cell_type": "code",
   "execution_count": null,
   "id": "d60abbc7-4fd2-478a-8380-16842a9f7dfe",
   "metadata": {},
   "outputs": [],
   "source": []
  }
 ],
 "metadata": {
  "kernelspec": {
   "display_name": "“xp65_extras”",
   "language": "python",
   "name": "xp65_extras"
  },
  "language_info": {
   "codemirror_mode": {
    "name": "ipython",
    "version": 3
   },
   "file_extension": ".py",
   "mimetype": "text/x-python",
   "name": "python",
   "nbconvert_exporter": "python",
   "pygments_lexer": "ipython3",
   "version": "3.11.11"
  }
 },
 "nbformat": 4,
 "nbformat_minor": 5
}
