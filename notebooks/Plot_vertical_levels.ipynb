{
 "cells": [
  {
   "cell_type": "code",
   "execution_count": 1,
   "id": "aab2b42b-072a-4ce1-903e-fe01fb493f7a",
   "metadata": {},
   "outputs": [],
   "source": [
    "# Some routines to plot vertical levels of a UM grid to check aspect ratios"
   ]
  },
  {
   "cell_type": "code",
   "execution_count": null,
   "id": "d3762b94-29f3-4274-8d25-d5a7287a6983",
   "metadata": {},
   "outputs": [],
   "source": []
  }
 ],
 "metadata": {
  "kernelspec": {
   "display_name": "“xp65_extras”",
   "language": "python",
   "name": "xp65_extras"
  },
  "language_info": {
   "codemirror_mode": {
    "name": "ipython",
    "version": 3
   },
   "file_extension": ".py",
   "mimetype": "text/x-python",
   "name": "python",
   "nbconvert_exporter": "python",
   "pygments_lexer": "ipython3",
   "version": "3.11.11"
  }
 },
 "nbformat": 4,
 "nbformat_minor": 5
}
